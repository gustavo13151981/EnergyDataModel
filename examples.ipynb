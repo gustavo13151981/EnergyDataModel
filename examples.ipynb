{
 "cells": [
  {
   "cell_type": "code",
   "execution_count": 1,
   "metadata": {},
   "outputs": [],
   "source": [
    "import energydatamodel as edm\n",
    "from energydatamodel import Site, EnergyAsset, EnergySystem, WindTurbine, PVSystem"
   ]
  },
  {
   "cell_type": "code",
   "execution_count": 2,
   "metadata": {},
   "outputs": [
    {
     "data": {
      "application/vnd.jupyter.widget-view+json": {
       "model_id": "9ce1a3ca397a49b6ab5908b1960a9d7d",
       "version_major": 2,
       "version_minor": 0
      },
      "text/plain": [
       "VBox(children=(HTML(value='<h3><b>EnergySystem: None</b></h3>'), Accordion(children=(Label(value='WindTurbine …"
      ]
     },
     "metadata": {},
     "output_type": "display_data"
    },
    {
     "data": {
      "text/html": [],
      "text/plain": [
       "EnergySystem(sites=[], assets=[WindTurbine(name=None, location=None, capacity=10, hub_height=None, rotor_diameter=None, turbine_model=None, power_curve=None, power_coefficient_curve=None), PVSystem(name=None, location=None, arrays=None, surface_tilt=0.0, surface_azimuth=180.0, albedo=None, surface_type=None)], name=None)"
      ]
     },
     "execution_count": 2,
     "metadata": {},
     "output_type": "execute_result"
    }
   ],
   "source": [
    "energy_system = EnergySystem()\n",
    "energy_system.add_assets([WindTurbine(10), WindTurbine(100)]])\n",
    "energy_system.add_assets(PVSystem())\n",
    "energy_system"
   ]
  },
  {
   "cell_type": "code",
   "execution_count": 3,
   "metadata": {},
   "outputs": [
    {
     "ename": "NameError",
     "evalue": "name 'energy_system' is not defined",
     "output_type": "error",
     "traceback": [
      "\u001b[0;31m---------------------------------------------------------------------------\u001b[0m",
      "\u001b[0;31mNameError\u001b[0m                                 Traceback (most recent call last)",
      "Cell \u001b[0;32mIn[3], line 1\u001b[0m\n\u001b[0;32m----> 1\u001b[0m \u001b[43menergy_system\u001b[49m\n",
      "\u001b[0;31mNameError\u001b[0m: name 'energy_system' is not defined"
     ]
    }
   ],
   "source": [
    "energy_system"
   ]
  },
  {
   "cell_type": "code",
   "execution_count": 4,
   "metadata": {},
   "outputs": [
    {
     "name": "stdout",
     "output_type": "stream",
     "text": [
      "Name: My Site\n",
      "Site ID: aa69b295-1e2e-4273-b015-8351ec81a445\n",
      "Location: Location(longitude=15, latitude=55, altitude=None, tz=None, name=None)\n",
      "Assets:\n",
      "  - Asset 1\n",
      "  - Asset 2\n",
      "\n"
     ]
    },
    {
     "ename": "TypeError",
     "evalue": "EnergyAsset.__init__() takes 1 positional argument but 2 were given",
     "output_type": "error",
     "traceback": [
      "\u001b[0;31m---------------------------------------------------------------------------\u001b[0m",
      "\u001b[0;31mTypeError\u001b[0m                                 Traceback (most recent call last)",
      "Cell \u001b[0;32mIn[4], line 16\u001b[0m\n\u001b[1;32m     14\u001b[0m site1 \u001b[38;5;241m=\u001b[39m Site(longitude\u001b[38;5;241m=\u001b[39m\u001b[38;5;241m15\u001b[39m, latitude\u001b[38;5;241m=\u001b[39m\u001b[38;5;241m55\u001b[39m, name\u001b[38;5;241m=\u001b[39m\u001b[38;5;124m\"\u001b[39m\u001b[38;5;124mSite 1\u001b[39m\u001b[38;5;124m\"\u001b[39m)\n\u001b[1;32m     15\u001b[0m site2 \u001b[38;5;241m=\u001b[39m Site(longitude\u001b[38;5;241m=\u001b[39m\u001b[38;5;241m25\u001b[39m, latitude\u001b[38;5;241m=\u001b[39m\u001b[38;5;241m65\u001b[39m, name\u001b[38;5;241m=\u001b[39m\u001b[38;5;124m\"\u001b[39m\u001b[38;5;124mSite 2\u001b[39m\u001b[38;5;124m\"\u001b[39m)\n\u001b[0;32m---> 16\u001b[0m site1\u001b[38;5;241m.\u001b[39madd_assets([\u001b[43mEnergyAsset\u001b[49m\u001b[43m(\u001b[49m\u001b[38;5;124;43m\"\u001b[39;49m\u001b[38;5;124;43mAsset 1\u001b[39;49m\u001b[38;5;124;43m\"\u001b[39;49m\u001b[43m)\u001b[49m, EnergyAsset(\u001b[38;5;124m\"\u001b[39m\u001b[38;5;124mAsset 2\u001b[39m\u001b[38;5;124m\"\u001b[39m)])\n\u001b[1;32m     17\u001b[0m site2\u001b[38;5;241m.\u001b[39madd_assets(EnergyAsset(\u001b[38;5;124m\"\u001b[39m\u001b[38;5;124mAsset 3\u001b[39m\u001b[38;5;124m\"\u001b[39m))\n\u001b[1;32m     19\u001b[0m energy_system\u001b[38;5;241m.\u001b[39madd_site(site1)\n",
      "\u001b[0;31mTypeError\u001b[0m: EnergyAsset.__init__() takes 1 positional argument but 2 were given"
     ]
    }
   ],
   "source": [
    "site = Site(longitude=15, latitude=55, name=\"My Site\")\n",
    "asset1 = EnergyAsset(name=\"Asset 1\")\n",
    "asset2 = EnergyAsset(name=\"Asset 2\")\n",
    "\n",
    "site.add_assets(asset1)\n",
    "site.add_assets(asset2)\n",
    "\n",
    "# Get and print the site summary\n",
    "site_summary = site.get_summary()\n",
    "print(site_summary)\n",
    "\n",
    "energy_system = EnergySystem()\n",
    "\n",
    "site1 = Site(longitude=15, latitude=55, name=\"Site 1\")\n",
    "site2 = Site(longitude=25, latitude=65, name=\"Site 2\")\n",
    "site1.add_assets([EnergyAsset(\"Asset 1\"), EnergyAsset(\"Asset 2\")])\n",
    "site2.add_assets(EnergyAsset(\"Asset 3\"))\n",
    "\n",
    "energy_system.add_site(site1)\n",
    "energy_system.add_site(site2)\n",
    "energy_system.add_asset(EnergyAsset(\"Asset 4\"))\n",
    "\n",
    "# Get and print the energy system summary\n",
    "system_summary = energy_system.get_summary()\n",
    "print(system_summary)\n",
    "print(site1)"
   ]
  },
  {
   "cell_type": "code",
   "execution_count": 5,
   "metadata": {},
   "outputs": [
    {
     "data": {
      "text/html": [
       "<div>\n",
       "<style scoped>\n",
       "    .dataframe tbody tr th:only-of-type {\n",
       "        vertical-align: middle;\n",
       "    }\n",
       "\n",
       "    .dataframe tbody tr th {\n",
       "        vertical-align: top;\n",
       "    }\n",
       "\n",
       "    .dataframe thead th {\n",
       "        text-align: right;\n",
       "    }\n",
       "</style>\n",
       "<table border=\"1\" class=\"dataframe\">\n",
       "  <thead>\n",
       "    <tr style=\"text-align: right;\">\n",
       "      <th></th>\n",
       "      <th>EnergyAsset</th>\n",
       "    </tr>\n",
       "  </thead>\n",
       "  <tbody>\n",
       "    <tr>\n",
       "      <th>location</th>\n",
       "      <td>None</td>\n",
       "    </tr>\n",
       "    <tr>\n",
       "      <th>name</th>\n",
       "      <td>Asset 1</td>\n",
       "    </tr>\n",
       "  </tbody>\n",
       "</table>\n",
       "</div>"
      ],
      "text/plain": [
       "         EnergyAsset\n",
       "location        None\n",
       "name         Asset 1"
      ]
     },
     "execution_count": 5,
     "metadata": {},
     "output_type": "execute_result"
    }
   ],
   "source": [
    "asset1.to_dataframe()"
   ]
  },
  {
   "cell_type": "code",
   "execution_count": null,
   "metadata": {},
   "outputs": [],
   "source": []
  }
 ],
 "metadata": {
  "kernelspec": {
   "display_name": ".venv_energydatamodel",
   "language": "python",
   "name": "python3"
  },
  "language_info": {
   "codemirror_mode": {
    "name": "ipython",
    "version": 3
   },
   "file_extension": ".py",
   "mimetype": "text/x-python",
   "name": "python",
   "nbconvert_exporter": "python",
   "pygments_lexer": "ipython3",
   "version": "3.11.4"
  }
 },
 "nbformat": 4,
 "nbformat_minor": 2
}
