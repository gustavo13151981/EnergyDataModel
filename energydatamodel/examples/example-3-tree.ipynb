{
 "cells": [
  {
   "cell_type": "code",
   "execution_count": 1,
   "metadata": {},
   "outputs": [],
   "source": [
    "import energydatamodel as edm"
   ]
  },
  {
   "cell_type": "code",
   "execution_count": 4,
   "metadata": {},
   "outputs": [],
   "source": [
    "pvsystem_1 = edm.PVSystem(name=\"pv_1\", capacity=2400, surface_azimuth=180, surface_tilt=25)\n",
    "windturbine_1 = edm.WindTurbine(name=\"wt_1\", capacity=3200, hub_height=120, rotor_diameter=100)\n",
    "battery_1 = edm.Battery(name=\"bat_1\", storage_capacity=1000, min_soc=150, max_charge=500, max_discharge=500)\n",
    "\n",
    "site_1 = edm.Site(name=\"site_1\", \n",
    "                  assets=[pvsystem_1, windturbine_1, battery_1],\n",
    "                  latitude=46, \n",
    "                  longitude=64)\n",
    "\n",
    "pvsystem_2 = edm.PVSystem(name=\"pv_2\", capacity=2400, surface_azimuth=180, surface_tilt=25)\n",
    "windturbine_2 = edm.WindTurbine(name=\"wt_2\", capacity=3200, hub_height=120, rotor_diameter=100)\n",
    "battery_2 = edm.Battery(name=\"bat_2\", storage_capacity=1000, min_soc=150, max_charge=500, max_discharge=500)\n",
    "\n",
    "site_2 = edm.Site(name=\"site_2\", \n",
    "                  assets=[pvsystem_2, windturbine_2, battery_2],\n",
    "                  latitude=51, \n",
    "                  longitude=58)\n",
    "\n",
    "portfolio = edm.Portfolio(name=\"portfolio\", collections=[site_1, site_2])\n"
   ]
  },
  {
   "cell_type": "code",
   "execution_count": 8,
   "metadata": {},
   "outputs": [
    {
     "name": "stdout",
     "output_type": "stream",
     "text": [
      "portfolio (edm.Portfolio)\n",
      "├── site_1 (edm.Site)\n",
      "│   ├── pv_1 (edm.PVSystem)\n",
      "│   ├── wt_1 (edm.WindTurbine)\n",
      "│   └── bat_1 (edm.Battery)\n",
      "└── site_2 (edm.Site)\n",
      "    ├── pv_2 (edm.PVSystem)\n",
      "    ├── wt_2 (edm.WindTurbine)\n",
      "    └── bat_2 (edm.Battery)\n"
     ]
    }
   ],
   "source": [
    "portfolio.draw_tree(show_type=True)"
   ]
  },
  {
   "cell_type": "code",
   "execution_count": null,
   "metadata": {},
   "outputs": [],
   "source": []
  }
 ],
 "metadata": {
  "kernelspec": {
   "display_name": ".venv_energydatamodel",
   "language": "python",
   "name": "python3"
  },
  "language_info": {
   "codemirror_mode": {
    "name": "ipython",
    "version": 3
   },
   "file_extension": ".py",
   "mimetype": "text/x-python",
   "name": "python",
   "nbconvert_exporter": "python",
   "pygments_lexer": "ipython3",
   "version": "3.11.4"
  }
 },
 "nbformat": 4,
 "nbformat_minor": 2
}
