{
 "cells": [
  {
   "cell_type": "code",
   "execution_count": 2,
   "metadata": {},
   "outputs": [
    {
     "name": "stdout",
     "output_type": "stream",
     "text": [
      "Collecting git+https://github.com/rebase-energy/EnergyDataModel\n",
      "  Cloning https://github.com/rebase-energy/EnergyDataModel to /private/var/folders/sj/xlrs69b568n4mntwz_7crr4r0000gn/T/pip-req-build-6j0b6_t8\n",
      "  Running command git clone --filter=blob:none --quiet https://github.com/rebase-energy/EnergyDataModel /private/var/folders/sj/xlrs69b568n4mntwz_7crr4r0000gn/T/pip-req-build-6j0b6_t8\n",
      "  Resolved https://github.com/rebase-energy/EnergyDataModel to commit 54ceea97700511061c24969eebb8fd7eb6a13fc0\n",
      "  Installing build dependencies ... \u001b[?25ldone\n",
      "\u001b[?25h  Getting requirements to build wheel ... \u001b[?25ldone\n",
      "\u001b[?25h  Preparing metadata (pyproject.toml) ... \u001b[?25ldone\n",
      "\u001b[?25hCollecting uuid (from energydatamodel==0.0.2)\n",
      "  Using cached uuid-1.30-py3-none-any.whl\n",
      "Requirement already satisfied: pandas in /Users/sebaheg/Documents/Github/EnergyDataModel/.venv_energydatamodel/lib/python3.11/site-packages (from energydatamodel==0.0.2) (2.1.4)\n",
      "Requirement already satisfied: shapely in /Users/sebaheg/Documents/Github/EnergyDataModel/.venv_energydatamodel/lib/python3.11/site-packages (from energydatamodel==0.0.2) (2.0.2)\n",
      "Requirement already satisfied: pytz in /Users/sebaheg/Documents/Github/EnergyDataModel/.venv_energydatamodel/lib/python3.11/site-packages (from energydatamodel==0.0.2) (2023.3.post1)\n",
      "Requirement already satisfied: ipywidgets in /Users/sebaheg/Documents/Github/EnergyDataModel/.venv_energydatamodel/lib/python3.11/site-packages (from energydatamodel==0.0.2) (8.1.1)\n",
      "Requirement already satisfied: geopandas in /Users/sebaheg/Documents/Github/EnergyDataModel/.venv_energydatamodel/lib/python3.11/site-packages (from energydatamodel==0.0.2) (0.14.3)\n",
      "Requirement already satisfied: fiona>=1.8.21 in /Users/sebaheg/Documents/Github/EnergyDataModel/.venv_energydatamodel/lib/python3.11/site-packages (from geopandas->energydatamodel==0.0.2) (1.9.6)\n",
      "Requirement already satisfied: packaging in /Users/sebaheg/Documents/Github/EnergyDataModel/.venv_energydatamodel/lib/python3.11/site-packages (from geopandas->energydatamodel==0.0.2) (23.2)\n",
      "Requirement already satisfied: pyproj>=3.3.0 in /Users/sebaheg/Documents/Github/EnergyDataModel/.venv_energydatamodel/lib/python3.11/site-packages (from geopandas->energydatamodel==0.0.2) (3.6.1)\n",
      "Requirement already satisfied: numpy<2,>=1.23.2 in /Users/sebaheg/Documents/Github/EnergyDataModel/.venv_energydatamodel/lib/python3.11/site-packages (from pandas->energydatamodel==0.0.2) (1.26.2)\n",
      "Requirement already satisfied: python-dateutil>=2.8.2 in /Users/sebaheg/Documents/Github/EnergyDataModel/.venv_energydatamodel/lib/python3.11/site-packages (from pandas->energydatamodel==0.0.2) (2.8.2)\n",
      "Requirement already satisfied: tzdata>=2022.1 in /Users/sebaheg/Documents/Github/EnergyDataModel/.venv_energydatamodel/lib/python3.11/site-packages (from pandas->energydatamodel==0.0.2) (2023.3)\n",
      "Requirement already satisfied: comm>=0.1.3 in /Users/sebaheg/Documents/Github/EnergyDataModel/.venv_energydatamodel/lib/python3.11/site-packages (from ipywidgets->energydatamodel==0.0.2) (0.2.0)\n",
      "Requirement already satisfied: ipython>=6.1.0 in /Users/sebaheg/Documents/Github/EnergyDataModel/.venv_energydatamodel/lib/python3.11/site-packages (from ipywidgets->energydatamodel==0.0.2) (8.19.0)\n",
      "Requirement already satisfied: traitlets>=4.3.1 in /Users/sebaheg/Documents/Github/EnergyDataModel/.venv_energydatamodel/lib/python3.11/site-packages (from ipywidgets->energydatamodel==0.0.2) (5.14.0)\n",
      "Requirement already satisfied: widgetsnbextension~=4.0.9 in /Users/sebaheg/Documents/Github/EnergyDataModel/.venv_energydatamodel/lib/python3.11/site-packages (from ipywidgets->energydatamodel==0.0.2) (4.0.9)\n",
      "Requirement already satisfied: jupyterlab-widgets~=3.0.9 in /Users/sebaheg/Documents/Github/EnergyDataModel/.venv_energydatamodel/lib/python3.11/site-packages (from ipywidgets->energydatamodel==0.0.2) (3.0.9)\n",
      "Requirement already satisfied: attrs>=19.2.0 in /Users/sebaheg/Documents/Github/EnergyDataModel/.venv_energydatamodel/lib/python3.11/site-packages (from fiona>=1.8.21->geopandas->energydatamodel==0.0.2) (23.2.0)\n",
      "Requirement already satisfied: certifi in /Users/sebaheg/Documents/Github/EnergyDataModel/.venv_energydatamodel/lib/python3.11/site-packages (from fiona>=1.8.21->geopandas->energydatamodel==0.0.2) (2023.11.17)\n",
      "Requirement already satisfied: click~=8.0 in /Users/sebaheg/Documents/Github/EnergyDataModel/.venv_energydatamodel/lib/python3.11/site-packages (from fiona>=1.8.21->geopandas->energydatamodel==0.0.2) (8.1.7)\n",
      "Requirement already satisfied: click-plugins>=1.0 in /Users/sebaheg/Documents/Github/EnergyDataModel/.venv_energydatamodel/lib/python3.11/site-packages (from fiona>=1.8.21->geopandas->energydatamodel==0.0.2) (1.1.1)\n",
      "Requirement already satisfied: cligj>=0.5 in /Users/sebaheg/Documents/Github/EnergyDataModel/.venv_energydatamodel/lib/python3.11/site-packages (from fiona>=1.8.21->geopandas->energydatamodel==0.0.2) (0.7.2)\n",
      "Requirement already satisfied: six in /Users/sebaheg/Documents/Github/EnergyDataModel/.venv_energydatamodel/lib/python3.11/site-packages (from fiona>=1.8.21->geopandas->energydatamodel==0.0.2) (1.16.0)\n",
      "Requirement already satisfied: decorator in /Users/sebaheg/Documents/Github/EnergyDataModel/.venv_energydatamodel/lib/python3.11/site-packages (from ipython>=6.1.0->ipywidgets->energydatamodel==0.0.2) (5.1.1)\n",
      "Requirement already satisfied: jedi>=0.16 in /Users/sebaheg/Documents/Github/EnergyDataModel/.venv_energydatamodel/lib/python3.11/site-packages (from ipython>=6.1.0->ipywidgets->energydatamodel==0.0.2) (0.19.1)\n",
      "Requirement already satisfied: matplotlib-inline in /Users/sebaheg/Documents/Github/EnergyDataModel/.venv_energydatamodel/lib/python3.11/site-packages (from ipython>=6.1.0->ipywidgets->energydatamodel==0.0.2) (0.1.6)\n",
      "Requirement already satisfied: prompt-toolkit<3.1.0,>=3.0.41 in /Users/sebaheg/Documents/Github/EnergyDataModel/.venv_energydatamodel/lib/python3.11/site-packages (from ipython>=6.1.0->ipywidgets->energydatamodel==0.0.2) (3.0.43)\n",
      "Requirement already satisfied: pygments>=2.4.0 in /Users/sebaheg/Documents/Github/EnergyDataModel/.venv_energydatamodel/lib/python3.11/site-packages (from ipython>=6.1.0->ipywidgets->energydatamodel==0.0.2) (2.17.2)\n",
      "Requirement already satisfied: stack-data in /Users/sebaheg/Documents/Github/EnergyDataModel/.venv_energydatamodel/lib/python3.11/site-packages (from ipython>=6.1.0->ipywidgets->energydatamodel==0.0.2) (0.6.3)\n",
      "Requirement already satisfied: pexpect>4.3 in /Users/sebaheg/Documents/Github/EnergyDataModel/.venv_energydatamodel/lib/python3.11/site-packages (from ipython>=6.1.0->ipywidgets->energydatamodel==0.0.2) (4.9.0)\n",
      "Requirement already satisfied: parso<0.9.0,>=0.8.3 in /Users/sebaheg/Documents/Github/EnergyDataModel/.venv_energydatamodel/lib/python3.11/site-packages (from jedi>=0.16->ipython>=6.1.0->ipywidgets->energydatamodel==0.0.2) (0.8.3)\n",
      "Requirement already satisfied: ptyprocess>=0.5 in /Users/sebaheg/Documents/Github/EnergyDataModel/.venv_energydatamodel/lib/python3.11/site-packages (from pexpect>4.3->ipython>=6.1.0->ipywidgets->energydatamodel==0.0.2) (0.7.0)\n",
      "Requirement already satisfied: wcwidth in /Users/sebaheg/Documents/Github/EnergyDataModel/.venv_energydatamodel/lib/python3.11/site-packages (from prompt-toolkit<3.1.0,>=3.0.41->ipython>=6.1.0->ipywidgets->energydatamodel==0.0.2) (0.2.12)\n",
      "Requirement already satisfied: executing>=1.2.0 in /Users/sebaheg/Documents/Github/EnergyDataModel/.venv_energydatamodel/lib/python3.11/site-packages (from stack-data->ipython>=6.1.0->ipywidgets->energydatamodel==0.0.2) (2.0.1)\n",
      "Requirement already satisfied: asttokens>=2.1.0 in /Users/sebaheg/Documents/Github/EnergyDataModel/.venv_energydatamodel/lib/python3.11/site-packages (from stack-data->ipython>=6.1.0->ipywidgets->energydatamodel==0.0.2) (2.4.1)\n",
      "Requirement already satisfied: pure-eval in /Users/sebaheg/Documents/Github/EnergyDataModel/.venv_energydatamodel/lib/python3.11/site-packages (from stack-data->ipython>=6.1.0->ipywidgets->energydatamodel==0.0.2) (0.2.2)\n",
      "Building wheels for collected packages: energydatamodel\n",
      "  Building wheel for energydatamodel (pyproject.toml) ... \u001b[?25ldone\n",
      "\u001b[?25h  Created wheel for energydatamodel: filename=energydatamodel-0.0.2-py3-none-any.whl size=15747 sha256=0bc5d91d0d8b8e61fcd48cbfc0547fab5429e2c9936207436229ba04d69e91b2\n",
      "  Stored in directory: /private/var/folders/sj/xlrs69b568n4mntwz_7crr4r0000gn/T/pip-ephem-wheel-cache-1jshesnn/wheels/84/08/49/a8dc10657fee0559a53361a4e07a9e2b792b246895f0cd3dae\n",
      "Successfully built energydatamodel\n",
      "Installing collected packages: uuid, energydatamodel\n",
      "  Attempting uninstall: energydatamodel\n",
      "    Found existing installation: energydatamodel 0.0.2\n",
      "    Uninstalling energydatamodel-0.0.2:\n",
      "      Successfully uninstalled energydatamodel-0.0.2\n",
      "Successfully installed energydatamodel-0.0.2 uuid-1.30\n",
      "\n",
      "\u001b[1m[\u001b[0m\u001b[34;49mnotice\u001b[0m\u001b[1;39;49m]\u001b[0m\u001b[39;49m A new release of pip is available: \u001b[0m\u001b[31;49m24.0\u001b[0m\u001b[39;49m -> \u001b[0m\u001b[32;49m24.3.1\u001b[0m\n",
      "\u001b[1m[\u001b[0m\u001b[34;49mnotice\u001b[0m\u001b[1;39;49m]\u001b[0m\u001b[39;49m To update, run: \u001b[0m\u001b[32;49mpip install --upgrade pip\u001b[0m\n"
     ]
    }
   ],
   "source": [
    "!pip install git+https://github.com/rebase-energy/EnergyDataModel"
   ]
  },
  {
   "cell_type": "code",
   "execution_count": null,
   "metadata": {},
   "outputs": [
    {
     "ename": "TypeError",
     "evalue": "Portfolio.__init__() got an unexpected keyword argument 'sites'",
     "output_type": "error",
     "traceback": [
      "\u001b[0;31m---------------------------------------------------------------------------\u001b[0m",
      "\u001b[0;31mTypeError\u001b[0m                                 Traceback (most recent call last)",
      "Cell \u001b[0;32mIn[1], line 19\u001b[0m\n\u001b[1;32m     13\u001b[0m battery_2 \u001b[38;5;241m=\u001b[39m edm\u001b[38;5;241m.\u001b[39mBattery(storage_capacity\u001b[38;5;241m=\u001b[39m\u001b[38;5;241m1000\u001b[39m, min_soc\u001b[38;5;241m=\u001b[39m\u001b[38;5;241m150\u001b[39m, max_charge\u001b[38;5;241m=\u001b[39m\u001b[38;5;241m500\u001b[39m, max_discharge\u001b[38;5;241m=\u001b[39m\u001b[38;5;241m500\u001b[39m)\n\u001b[1;32m     15\u001b[0m site_2 \u001b[38;5;241m=\u001b[39m edm\u001b[38;5;241m.\u001b[39mSite(assets\u001b[38;5;241m=\u001b[39m[pvsystem_2, windturbine_2, battery_2],\n\u001b[1;32m     16\u001b[0m                   latitude\u001b[38;5;241m=\u001b[39m\u001b[38;5;241m51\u001b[39m, \n\u001b[1;32m     17\u001b[0m                   longitude\u001b[38;5;241m=\u001b[39m\u001b[38;5;241m58\u001b[39m)\n\u001b[0;32m---> 19\u001b[0m portfolio \u001b[38;5;241m=\u001b[39m \u001b[43medm\u001b[49m\u001b[38;5;241;43m.\u001b[39;49m\u001b[43mPortfolio\u001b[49m\u001b[43m(\u001b[49m\u001b[43msites\u001b[49m\u001b[38;5;241;43m=\u001b[39;49m\u001b[43m[\u001b[49m\u001b[43msite_1\u001b[49m\u001b[43m,\u001b[49m\u001b[43m \u001b[49m\u001b[43msite_2\u001b[49m\u001b[43m]\u001b[49m\u001b[43m)\u001b[49m\n\u001b[1;32m     21\u001b[0m portfolio\u001b[38;5;241m.\u001b[39mto_json()\n",
      "\u001b[0;31mTypeError\u001b[0m: Portfolio.__init__() got an unexpected keyword argument 'sites'"
     ]
    }
   ],
   "source": [
    "import energydatamodel as edm\n",
    "\n",
    "pvsystem_1 = edm.PVSystem(capacity=2400, surface_azimuth=180, surface_tilt=25)\n",
    "windturbine_1 = edm.WindTurbine(capacity=3200, hub_height=120, rotor_diameter=100)\n",
    "battery_1 = edm.Battery(storage_capacity=1000, min_soc=150, max_charge=500, max_discharge=500)\n",
    "\n",
    "site_1 = edm.Site(assets=[pvsystem_1, windturbine_1, battery_1],\n",
    "                  latitude=46, \n",
    "                  longitude=64)\n",
    "\n",
    "pvsystem_2 = edm.PVSystem(capacity=2400, surface_azimuth=180, surface_tilt=25)\n",
    "windturbine_2 = edm.WindTurbine(capacity=3200, hub_height=120, rotor_diameter=100)\n",
    "battery_2 = edm.Battery(storage_capacity=1000, min_soc=150, max_charge=500, max_discharge=500)\n",
    "\n",
    "site_2 = edm.Site(assets=[pvsystem_2, windturbine_2, battery_2],\n",
    "                  latitude=51, \n",
    "                  longitude=58)\n",
    "\n",
    "portfolio = edm.Portfolio(collections=[site_1, site_2])\n",
    "\n",
    "portfolio.to_json()"
   ]
  },
  {
   "cell_type": "code",
   "execution_count": null,
   "metadata": {},
   "outputs": [],
   "source": []
  }
 ],
 "metadata": {
  "kernelspec": {
   "display_name": ".venv_energydatamodel",
   "language": "python",
   "name": "python3"
  },
  "language_info": {
   "codemirror_mode": {
    "name": "ipython",
    "version": 3
   },
   "file_extension": ".py",
   "mimetype": "text/x-python",
   "name": "python",
   "nbconvert_exporter": "python",
   "pygments_lexer": "ipython3",
   "version": "3.11.4"
  }
 },
 "nbformat": 4,
 "nbformat_minor": 2
}
