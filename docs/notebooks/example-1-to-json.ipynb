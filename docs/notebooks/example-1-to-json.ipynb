{
 "cells": [
  {
   "cell_type": "markdown",
   "metadata": {},
   "source": [
    "# Serialize to json"
   ]
  },
  {
   "cell_type": "code",
   "execution_count": 2,
   "metadata": {},
   "outputs": [
    {
     "data": {
      "text/plain": [
       "{'Portfolio': {'sites': [{'Site': {'assets': [{'PVSystem': {'pv_arrays': [{'PVArray': {'capacity': 2400,\n",
       "           'surface_azimuth': 180,\n",
       "           'surface_tilt': 25,\n",
       "           'module_type': 'glass_polymer'}}],\n",
       "        'capacity': 2400,\n",
       "        'surface_azimuth': 180,\n",
       "        'surface_tilt': 25}},\n",
       "      {'WindTurbine': {'capacity': 3200,\n",
       "        'hub_height': 120,\n",
       "        'rotor_diameter': 100}},\n",
       "      {'Battery': {'storage_capacity': 1000,\n",
       "        'min_soc': 150,\n",
       "        'max_charge': 500,\n",
       "        'max_discharge': 500}}],\n",
       "     'longitude': 64,\n",
       "     'latitude': 46,\n",
       "     'GeoLocation': {'longitude': 64, 'latitude': 46},\n",
       "     '_id': 'd5aeeb0e-0a2a-4cbe-b1ed-540316532c89'}},\n",
       "   {'Site': {'assets': [{'PVSystem': {'pv_arrays': [{'PVArray': {'capacity': 2400,\n",
       "           'surface_azimuth': 180,\n",
       "           'surface_tilt': 25,\n",
       "           'module_type': 'glass_polymer'}}],\n",
       "        'capacity': 2400,\n",
       "        'surface_azimuth': 180,\n",
       "        'surface_tilt': 25}},\n",
       "      {'WindTurbine': {'capacity': 3200,\n",
       "        'hub_height': 120,\n",
       "        'rotor_diameter': 100}},\n",
       "      {'Battery': {'storage_capacity': 1000,\n",
       "        'min_soc': 150,\n",
       "        'max_charge': 500,\n",
       "        'max_discharge': 500}}],\n",
       "     'longitude': 58,\n",
       "     'latitude': 51,\n",
       "     'GeoLocation': {'longitude': 58, 'latitude': 51},\n",
       "     '_id': '3ef0d152-9b61-4c3d-b62b-4d5ba9bbdeb1'}}]}}"
      ]
     },
     "execution_count": 2,
     "metadata": {},
     "output_type": "execute_result"
    }
   ],
   "source": [
    "import energydatamodel as edm\n",
    "\n",
    "pvsystem_1 = edm.PVSystem(capacity=2400, surface_azimuth=180, surface_tilt=25)\n",
    "windturbine_1 = edm.WindTurbine(capacity=3200, hub_height=120, rotor_diameter=100)\n",
    "battery_1 = edm.Battery(storage_capacity=1000, min_soc=150, max_charge=500, max_discharge=500)\n",
    "\n",
    "site_1 = edm.Site(assets=[pvsystem_1, windturbine_1, battery_1],\n",
    "                  latitude=46, \n",
    "                  longitude=64)\n",
    "\n",
    "pvsystem_2 = edm.PVSystem(capacity=2400, surface_azimuth=180, surface_tilt=25)\n",
    "windturbine_2 = edm.WindTurbine(capacity=3200, hub_height=120, rotor_diameter=100)\n",
    "battery_2 = edm.Battery(storage_capacity=1000, min_soc=150, max_charge=500, max_discharge=500)\n",
    "\n",
    "site_2 = edm.Site(assets=[pvsystem_2, windturbine_2, battery_2],\n",
    "                  latitude=51, \n",
    "                  longitude=58)\n",
    "\n",
    "portfolio = edm.Portfolio(sites=[site_1, site_2])\n",
    "\n",
    "portfolio.to_json()"
   ]
  },
  {
   "cell_type": "code",
   "execution_count": null,
   "metadata": {},
   "outputs": [],
   "source": []
  }
 ],
 "metadata": {
  "kernelspec": {
   "display_name": ".venv_energydatamodel",
   "language": "python",
   "name": "python3"
  },
  "language_info": {
   "codemirror_mode": {
    "name": "ipython",
    "version": 3
   },
   "file_extension": ".py",
   "mimetype": "text/x-python",
   "name": "python",
   "nbconvert_exporter": "python",
   "pygments_lexer": "ipython3",
   "version": "3.11.4"
  }
 },
 "nbformat": 4,
 "nbformat_minor": 2
}
