{
 "cells": [
  {
   "cell_type": "markdown",
   "metadata": {},
   "source": [
    "# Serialize to json"
   ]
  },
  {
   "cell_type": "code",
   "execution_count": 1,
   "metadata": {},
   "outputs": [],
   "source": [
    "import energydatamodel as edm\n",
    "\n",
    "pvsystem_1 = edm.PVSystem(capacity=2400, surface_azimuth=180, surface_tilt=25)\n",
    "windturbine_1 = edm.WindTurbine(capacity=3200, hub_height=120, rotor_diameter=100)\n",
    "battery_1 = edm.Battery(storage_capacity=1000, min_soc=150, max_charge=500, max_discharge=500)\n",
    "\n",
    "site_1 = edm.Site(assets=[pvsystem_1, windturbine_1, battery_1],\n",
    "                  latitude=46, \n",
    "                  longitude=64)\n",
    "\n",
    "pvsystem_2 = edm.PVSystem(capacity=2400, surface_azimuth=180, surface_tilt=25)\n",
    "windturbine_2 = edm.WindTurbine(capacity=3200, hub_height=120, rotor_diameter=100)\n",
    "battery_2 = edm.Battery(storage_capacity=1000, min_soc=150, max_charge=500, max_discharge=500)\n",
    "\n",
    "site_2 = edm.Site(assets=[pvsystem_2, windturbine_2, battery_2],\n",
    "                  latitude=51, \n",
    "                  longitude=58)\n",
    "\n",
    "portfolio = edm.Portfolio(sites=[site_1, site_2])\n",
    "\n",
    "portfolio.to_json()"
   ]
  },
  {
   "cell_type": "code",
   "execution_count": null,
   "metadata": {},
   "outputs": [],
   "source": []
  }
 ],
 "metadata": {
  "kernelspec": {
   "display_name": ".venv_energydatamodel",
   "language": "python",
   "name": "python3"
  },
  "language_info": {
   "codemirror_mode": {
    "name": "ipython",
    "version": 3
   },
   "file_extension": ".py",
   "mimetype": "text/x-python",
   "name": "python",
   "nbconvert_exporter": "python",
   "pygments_lexer": "ipython3",
   "version": "3.11.4"
  }
 },
 "nbformat": 4,
 "nbformat_minor": 2
}
